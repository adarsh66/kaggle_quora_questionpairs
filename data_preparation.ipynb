{
 "cells": [
  {
   "cell_type": "markdown",
   "metadata": {},
   "source": [
    "# Quora Duplicate Questions classification\n",
    "###  Kaggle competition"
   ]
  },
  {
   "cell_type": "markdown",
   "metadata": {},
   "source": [
    "## Exploration & Data preparation"
   ]
  },
  {
   "cell_type": "code",
   "execution_count": 1,
   "metadata": {
    "collapsed": true
   },
   "outputs": [],
   "source": [
    "import pandas as pd\n",
    "import numpy as np\n",
    "import sklearn as sk\n",
    "import string\n",
    "import nltk\n",
    "from nltk.metrics import *\n",
    "from time import time"
   ]
  },
  {
   "cell_type": "markdown",
   "metadata": {},
   "source": [
    "## Import dataset"
   ]
  },
  {
   "cell_type": "code",
   "execution_count": 2,
   "metadata": {
    "collapsed": false
   },
   "outputs": [
    {
     "data": {
      "text/html": [
       "<div>\n",
       "<table border=\"1\" class=\"dataframe\">\n",
       "  <thead>\n",
       "    <tr style=\"text-align: right;\">\n",
       "      <th></th>\n",
       "      <th>id</th>\n",
       "      <th>qid1</th>\n",
       "      <th>qid2</th>\n",
       "      <th>question1</th>\n",
       "      <th>question2</th>\n",
       "      <th>is_duplicate</th>\n",
       "    </tr>\n",
       "  </thead>\n",
       "  <tbody>\n",
       "    <tr>\n",
       "      <th>0</th>\n",
       "      <td>0</td>\n",
       "      <td>1</td>\n",
       "      <td>2</td>\n",
       "      <td>What is the step by step guide to invest in sh...</td>\n",
       "      <td>What is the step by step guide to invest in sh...</td>\n",
       "      <td>0</td>\n",
       "    </tr>\n",
       "    <tr>\n",
       "      <th>1</th>\n",
       "      <td>1</td>\n",
       "      <td>3</td>\n",
       "      <td>4</td>\n",
       "      <td>What is the story of Kohinoor (Koh-i-Noor) Dia...</td>\n",
       "      <td>What would happen if the Indian government sto...</td>\n",
       "      <td>0</td>\n",
       "    </tr>\n",
       "    <tr>\n",
       "      <th>2</th>\n",
       "      <td>2</td>\n",
       "      <td>5</td>\n",
       "      <td>6</td>\n",
       "      <td>How can I increase the speed of my internet co...</td>\n",
       "      <td>How can Internet speed be increased by hacking...</td>\n",
       "      <td>0</td>\n",
       "    </tr>\n",
       "    <tr>\n",
       "      <th>3</th>\n",
       "      <td>3</td>\n",
       "      <td>7</td>\n",
       "      <td>8</td>\n",
       "      <td>Why am I mentally very lonely? How can I solve...</td>\n",
       "      <td>Find the remainder when [math]23^{24}[/math] i...</td>\n",
       "      <td>0</td>\n",
       "    </tr>\n",
       "    <tr>\n",
       "      <th>4</th>\n",
       "      <td>4</td>\n",
       "      <td>9</td>\n",
       "      <td>10</td>\n",
       "      <td>Which one dissolve in water quikly sugar, salt...</td>\n",
       "      <td>Which fish would survive in salt water?</td>\n",
       "      <td>0</td>\n",
       "    </tr>\n",
       "  </tbody>\n",
       "</table>\n",
       "</div>"
      ],
      "text/plain": [
       "   id  qid1  qid2                                          question1  \\\n",
       "0   0     1     2  What is the step by step guide to invest in sh...   \n",
       "1   1     3     4  What is the story of Kohinoor (Koh-i-Noor) Dia...   \n",
       "2   2     5     6  How can I increase the speed of my internet co...   \n",
       "3   3     7     8  Why am I mentally very lonely? How can I solve...   \n",
       "4   4     9    10  Which one dissolve in water quikly sugar, salt...   \n",
       "\n",
       "                                           question2  is_duplicate  \n",
       "0  What is the step by step guide to invest in sh...             0  \n",
       "1  What would happen if the Indian government sto...             0  \n",
       "2  How can Internet speed be increased by hacking...             0  \n",
       "3  Find the remainder when [math]23^{24}[/math] i...             0  \n",
       "4            Which fish would survive in salt water?             0  "
      ]
     },
     "execution_count": 2,
     "metadata": {},
     "output_type": "execute_result"
    }
   ],
   "source": [
    "df_train_base = pd.read_csv('data/train.csv')\n",
    "df_train_base.head()"
   ]
  },
  {
   "cell_type": "markdown",
   "metadata": {},
   "source": [
    "### Clean the dataset"
   ]
  },
  {
   "cell_type": "code",
   "execution_count": 3,
   "metadata": {
    "collapsed": false
   },
   "outputs": [
    {
     "name": "stderr",
     "output_type": "stream",
     "text": [
      "/Users/adarsh/anaconda/lib/python2.7/site-packages/ipykernel/__main__.py:7: UnicodeWarning: Unicode equal comparison failed to convert both arguments to Unicode - interpreting them as being unequal\n"
     ]
    },
    {
     "name": "stdout",
     "output_type": "stream",
     "text": [
      "CPU times: user 1min 9s, sys: 875 ms, total: 1min 10s\n",
      "Wall time: 1min 9s\n"
     ]
    }
   ],
   "source": [
    "%%time\n",
    "#punctable =str.maketrans({key: \"\" for key in string.punctuation})\n",
    "stopwords = nltk.corpus.stopwords.words('english')\n",
    "for qcol in ['question1','question2']:\n",
    "    df_train_base['act_len_' + qcol ] = df_train_base[qcol].apply(lambda x: len(str(x).split()))\n",
    "    #df_train_base[qcol] = df_train_base[qcol].apply(lambda x: str(x).lower().translate(punctable))\n",
    "    df_train_base[qcol] = df_train_base[qcol].apply(lambda x: str(x).lower().translate(None, string.punctuation))\n",
    "    df_train_base[qcol] = df_train_base[qcol].apply(lambda x: ' '.join([word for word in x.split() if word not in stopwords]))\n",
    "    df_train_base['imp_len_' + qcol ] = df_train_base[qcol].apply(lambda x: len(str(x).split()))"
   ]
  },
  {
   "cell_type": "code",
   "execution_count": 4,
   "metadata": {
    "collapsed": false
   },
   "outputs": [
    {
     "name": "stdout",
     "output_type": "stream",
     "text": [
      "(590018, 3)\n",
      "   qid                                           question  type\n",
      "0    1          step step guide invest share market india     1\n",
      "1    3                    story kohinoor kohinoor diamond     1\n",
      "2    5       increase speed internet connection using vpn     1\n",
      "3    7                              mentally lonely solve     1\n",
      "4    9  one dissolve water quikly sugar salt methane c...     1\n",
      "CPU times: user 390 ms, sys: 60.3 ms, total: 451 ms\n",
      "Wall time: 450 ms\n"
     ]
    }
   ],
   "source": [
    "%%time\n",
    "question1 = df_train_base[['qid1','question1']].drop_duplicates().rename(columns={'qid1':'qid','question1':'question'})\n",
    "question1['type'] = 1\n",
    "question2 = df_train_base[['qid2','question2']].drop_duplicates().rename(columns={'qid2':'qid','question2':'question'})\n",
    "question2['type'] = 2\n",
    "allquestions = pd.concat([question1,question2])\n",
    "print (allquestions.shape)\n",
    "print (allquestions.head())"
   ]
  },
  {
   "cell_type": "markdown",
   "metadata": {},
   "source": [
    "### tf-idf vectorizer"
   ]
  },
  {
   "cell_type": "code",
   "execution_count": 6,
   "metadata": {
    "collapsed": false
   },
   "outputs": [
    {
     "name": "stdout",
     "output_type": "stream",
     "text": [
      "CPU times: user 8.45 s, sys: 227 ms, total: 8.68 s\n",
      "Wall time: 8.6 s\n"
     ]
    }
   ],
   "source": [
    "%%time\n",
    "from sklearn.feature_extraction.text import TfidfVectorizer, CountVectorizer\n",
    "tfidf_vectorizer = TfidfVectorizer(max_df=0.9,max_features=2000,\n",
    "                                   stop_words='english')\n",
    "tfidf = tfidf_vectorizer.fit_transform(allquestions.question)"
   ]
  },
  {
   "cell_type": "code",
   "execution_count": 8,
   "metadata": {
    "collapsed": true
   },
   "outputs": [],
   "source": [
    "def sparse_max_row(csr_mat):\n",
    "    ret = np.maximum.reduceat(csr_mat.data, csr_mat.indptr[:-1])\n",
    "    ret[np.diff(csr_mat.indptr) == 0] = 0\n",
    "    return ret\n",
    "\n",
    "def min_sparse(X):\n",
    "    if len(X.data) == 0:\n",
    "        return 0\n",
    "    m = X.data.min()\n",
    "    return m if X.getnnz() == X.size else min(m, 0)\n",
    "\n",
    "allquestions['tfidf_score'] = tfidf.sum(axis=1)\n",
    "allquestions['tfidf_max'] =sparse_max_row(tfidf)\n",
    "allquestions['tfidf_min'] =[min_sparse(tfidf.getrow(i)) for i in range(tfidf.shape[0])]"
   ]
  },
  {
   "cell_type": "code",
   "execution_count": 9,
   "metadata": {
    "collapsed": false
   },
   "outputs": [
    {
     "data": {
      "text/html": [
       "<div>\n",
       "<table border=\"1\" class=\"dataframe\">\n",
       "  <thead>\n",
       "    <tr style=\"text-align: right;\">\n",
       "      <th></th>\n",
       "      <th>qid</th>\n",
       "      <th>question</th>\n",
       "      <th>type</th>\n",
       "      <th>tfidf_score</th>\n",
       "      <th>tfidf_max</th>\n",
       "      <th>tfidf_min</th>\n",
       "    </tr>\n",
       "  </thead>\n",
       "  <tbody>\n",
       "    <tr>\n",
       "      <th>0</th>\n",
       "      <td>1</td>\n",
       "      <td>step step guide invest share market india</td>\n",
       "      <td>1</td>\n",
       "      <td>1.998898</td>\n",
       "      <td>0.788155</td>\n",
       "      <td>0.208347</td>\n",
       "    </tr>\n",
       "    <tr>\n",
       "      <th>1</th>\n",
       "      <td>3</td>\n",
       "      <td>story kohinoor kohinoor diamond</td>\n",
       "      <td>1</td>\n",
       "      <td>1.000000</td>\n",
       "      <td>1.000000</td>\n",
       "      <td>1.000000</td>\n",
       "    </tr>\n",
       "    <tr>\n",
       "      <th>2</th>\n",
       "      <td>5</td>\n",
       "      <td>increase speed internet connection using vpn</td>\n",
       "      <td>1</td>\n",
       "      <td>2.220270</td>\n",
       "      <td>0.537069</td>\n",
       "      <td>0.372623</td>\n",
       "    </tr>\n",
       "    <tr>\n",
       "      <th>3</th>\n",
       "      <td>7</td>\n",
       "      <td>mentally lonely solve</td>\n",
       "      <td>1</td>\n",
       "      <td>1.000000</td>\n",
       "      <td>1.000000</td>\n",
       "      <td>1.000000</td>\n",
       "    </tr>\n",
       "    <tr>\n",
       "      <th>4</th>\n",
       "      <td>9</td>\n",
       "      <td>one dissolve water quikly sugar salt methane c...</td>\n",
       "      <td>1</td>\n",
       "      <td>1.985718</td>\n",
       "      <td>0.540787</td>\n",
       "      <td>0.393676</td>\n",
       "    </tr>\n",
       "  </tbody>\n",
       "</table>\n",
       "</div>"
      ],
      "text/plain": [
       "   qid                                           question  type  tfidf_score  \\\n",
       "0    1          step step guide invest share market india     1     1.998898   \n",
       "1    3                    story kohinoor kohinoor diamond     1     1.000000   \n",
       "2    5       increase speed internet connection using vpn     1     2.220270   \n",
       "3    7                              mentally lonely solve     1     1.000000   \n",
       "4    9  one dissolve water quikly sugar salt methane c...     1     1.985718   \n",
       "\n",
       "   tfidf_max  tfidf_min  \n",
       "0   0.788155   0.208347  \n",
       "1   1.000000   1.000000  \n",
       "2   0.537069   0.372623  \n",
       "3   1.000000   1.000000  \n",
       "4   0.540787   0.393676  "
      ]
     },
     "execution_count": 9,
     "metadata": {},
     "output_type": "execute_result"
    }
   ],
   "source": [
    "allquestions.head()"
   ]
  },
  {
   "cell_type": "markdown",
   "metadata": {},
   "source": [
    "## Feature engineering"
   ]
  },
  {
   "cell_type": "code",
   "execution_count": 10,
   "metadata": {
    "collapsed": true
   },
   "outputs": [],
   "source": [
    "def get_dist(sent1, sent2, func):\n",
    "    # to take care of division by zero errors\n",
    "    #print(sent1)\n",
    "    try:\n",
    "        res = func(set(sent1.split()), set(sent2.split()))\n",
    "    except:\n",
    "        res=0\n",
    "    return res"
   ]
  },
  {
   "cell_type": "code",
   "execution_count": 11,
   "metadata": {
    "collapsed": false
   },
   "outputs": [
    {
     "data": {
      "text/html": [
       "<div>\n",
       "<table border=\"1\" class=\"dataframe\">\n",
       "  <thead>\n",
       "    <tr style=\"text-align: right;\">\n",
       "      <th></th>\n",
       "      <th>act_len_diff</th>\n",
       "      <th>imp_len_diff</th>\n",
       "      <th>tfidf_score_diff</th>\n",
       "      <th>tfidf_score_question1</th>\n",
       "      <th>tfidf_max_question1</th>\n",
       "      <th>tfidf_min_question1</th>\n",
       "      <th>tfidf_score_question2</th>\n",
       "      <th>tfidf_max_question2</th>\n",
       "      <th>tfidf_min_question2</th>\n",
       "      <th>jaccard_dist</th>\n",
       "      <th>masi_dist</th>\n",
       "      <th>is_duplicate</th>\n",
       "    </tr>\n",
       "  </thead>\n",
       "  <tbody>\n",
       "    <tr>\n",
       "      <th>0</th>\n",
       "      <td>2</td>\n",
       "      <td>1</td>\n",
       "      <td>0.168171</td>\n",
       "      <td>1.998898</td>\n",
       "      <td>0.788155</td>\n",
       "      <td>0.208347</td>\n",
       "      <td>1.830727</td>\n",
       "      <td>0.805839</td>\n",
       "      <td>0.324738</td>\n",
       "      <td>0.166667</td>\n",
       "      <td>0.441667</td>\n",
       "      <td>0</td>\n",
       "    </tr>\n",
       "    <tr>\n",
       "      <th>1</th>\n",
       "      <td>-5</td>\n",
       "      <td>-5</td>\n",
       "      <td>-0.727128</td>\n",
       "      <td>1.000000</td>\n",
       "      <td>1.000000</td>\n",
       "      <td>1.000000</td>\n",
       "      <td>1.727128</td>\n",
       "      <td>0.622993</td>\n",
       "      <td>0.517990</td>\n",
       "      <td>0.777778</td>\n",
       "      <td>0.926667</td>\n",
       "      <td>0</td>\n",
       "    </tr>\n",
       "    <tr>\n",
       "      <th>2</th>\n",
       "      <td>1</td>\n",
       "      <td>1</td>\n",
       "      <td>0.000000</td>\n",
       "      <td>1.000000</td>\n",
       "      <td>1.000000</td>\n",
       "      <td>1.000000</td>\n",
       "      <td>1.000000</td>\n",
       "      <td>1.000000</td>\n",
       "      <td>1.000000</td>\n",
       "      <td>1.000000</td>\n",
       "      <td>1.000000</td>\n",
       "      <td>0</td>\n",
       "    </tr>\n",
       "    <tr>\n",
       "      <th>3</th>\n",
       "      <td>0</td>\n",
       "      <td>0</td>\n",
       "      <td>-0.413921</td>\n",
       "      <td>1.000000</td>\n",
       "      <td>1.000000</td>\n",
       "      <td>1.000000</td>\n",
       "      <td>1.413921</td>\n",
       "      <td>0.721352</td>\n",
       "      <td>0.692568</td>\n",
       "      <td>0.600000</td>\n",
       "      <td>0.868000</td>\n",
       "      <td>0</td>\n",
       "    </tr>\n",
       "    <tr>\n",
       "      <th>4</th>\n",
       "      <td>2</td>\n",
       "      <td>-1</td>\n",
       "      <td>-0.387095</td>\n",
       "      <td>1.000000</td>\n",
       "      <td>1.000000</td>\n",
       "      <td>1.000000</td>\n",
       "      <td>1.387095</td>\n",
       "      <td>0.831358</td>\n",
       "      <td>0.555737</td>\n",
       "      <td>0.857143</td>\n",
       "      <td>0.952857</td>\n",
       "      <td>0</td>\n",
       "    </tr>\n",
       "  </tbody>\n",
       "</table>\n",
       "</div>"
      ],
      "text/plain": [
       "   act_len_diff  imp_len_diff  tfidf_score_diff  tfidf_score_question1  \\\n",
       "0             2             1          0.168171               1.998898   \n",
       "1            -5            -5         -0.727128               1.000000   \n",
       "2             1             1          0.000000               1.000000   \n",
       "3             0             0         -0.413921               1.000000   \n",
       "4             2            -1         -0.387095               1.000000   \n",
       "\n",
       "   tfidf_max_question1  tfidf_min_question1  tfidf_score_question2  \\\n",
       "0             0.788155             0.208347               1.830727   \n",
       "1             1.000000             1.000000               1.727128   \n",
       "2             1.000000             1.000000               1.000000   \n",
       "3             1.000000             1.000000               1.413921   \n",
       "4             1.000000             1.000000               1.387095   \n",
       "\n",
       "   tfidf_max_question2  tfidf_min_question2  jaccard_dist  masi_dist  \\\n",
       "0             0.805839             0.324738      0.166667   0.441667   \n",
       "1             0.622993             0.517990      0.777778   0.926667   \n",
       "2             1.000000             1.000000      1.000000   1.000000   \n",
       "3             0.721352             0.692568      0.600000   0.868000   \n",
       "4             0.831358             0.555737      0.857143   0.952857   \n",
       "\n",
       "   is_duplicate  \n",
       "0             0  \n",
       "1             0  \n",
       "2             0  \n",
       "3             0  \n",
       "4             0  "
      ]
     },
     "execution_count": 11,
     "metadata": {},
     "output_type": "execute_result"
    }
   ],
   "source": [
    "df_train = pd.merge(df_train_base, allquestions[allquestions.type==1], left_on='qid1',right_on='qid')\n",
    "df_train = pd.merge(df_train, allquestions[allquestions.type==2], left_on='qid2',right_on='qid', suffixes=('_question1','_question2'))\n",
    "df_train['jaccard_dist'] = df_train.apply(lambda row: get_dist(row['question_question1'], \n",
    "                                                        row['question_question2'], jaccard_distance)\n",
    "                                                         , axis=1)\n",
    "df_train['masi_dist'] = df_train.apply(lambda row: get_dist(row['question_question1'], \n",
    "                                                        row['question_question2'], masi_distance)\n",
    "                                                         , axis=1)\n",
    "for col in ['act_len','imp_len','tfidf_score']:\n",
    "    df_train[col+'_diff'] = df_train[col+'_question1'] - df_train[col+'_question2']\n",
    "df_train[['act_len_diff','imp_len_diff','tfidf_score_diff'\n",
    "               ,'tfidf_score_question1', 'tfidf_max_question1', 'tfidf_min_question1'\n",
    "               ,'tfidf_score_question2', 'tfidf_max_question2', 'tfidf_min_question2'\n",
    "               ,'jaccard_dist','masi_dist'\n",
    "                , 'is_duplicate']].head()\n"
   ]
  },
  {
   "cell_type": "code",
   "execution_count": 13,
   "metadata": {
    "collapsed": true
   },
   "outputs": [],
   "source": [
    "features = ['act_len_diff','imp_len_diff','tfidf_score_diff'\n",
    "               ,'tfidf_score_question1', 'tfidf_max_question1', 'tfidf_min_question1'\n",
    "               ,'tfidf_score_question2', 'tfidf_max_question2', 'tfidf_min_question2'\n",
    "               ,'jaccard_dist','masi_dist']\n",
    "y_col = 'is_duplicate'"
   ]
  },
  {
   "cell_type": "markdown",
   "metadata": {},
   "source": [
    "### Train - test dataset split\n",
    "70:30 split for train and test. Test set will only be used for validation. Train set may be further split for further cross validation"
   ]
  },
  {
   "cell_type": "code",
   "execution_count": 14,
   "metadata": {
    "collapsed": false
   },
   "outputs": [],
   "source": [
    "from sklearn.model_selection import train_test_split\n",
    "from sklearn.ensemble import RandomForestClassifierseed= 32\n",
    "X_train, X_test, Y_train, Y_test = train_test_split(df_train[features], df_train[y_col], test_size=0.3,random_state=seed)"
   ]
  },
  {
   "cell_type": "markdown",
   "metadata": {},
   "source": [
    "### Run a test classifier to establish baseline performance"
   ]
  },
  {
   "cell_type": "code",
   "execution_count": 22,
   "metadata": {
    "collapsed": false
   },
   "outputs": [
    {
     "data": {
      "text/plain": [
       "RandomForestClassifier(bootstrap=True, class_weight=None, criterion='gini',\n",
       "            max_depth=None, max_features='auto', max_leaf_nodes=None,\n",
       "            min_impurity_split=1e-07, min_samples_leaf=1,\n",
       "            min_samples_split=2, min_weight_fraction_leaf=0.0,\n",
       "            n_estimators=100, n_jobs=1, oob_score=False, random_state=None,\n",
       "            verbose=0, warm_start=False)"
      ]
     },
     "execution_count": 22,
     "metadata": {},
     "output_type": "execute_result"
    }
   ],
   "source": [
    "%%time\n",
    "clf = RandomForestClassifier(n_estimators=100)\n",
    "clf.fit(X_train, Y_train)"
   ]
  },
  {
   "cell_type": "code",
   "execution_count": 26,
   "metadata": {
    "collapsed": false
   },
   "outputs": [
    {
     "name": "stdout",
     "output_type": "stream",
     "text": [
      "Accuracy = 0.73691\n",
      "ROC AUC = 0.71683\n",
      "Log Loss = 0.52048\n"
     ]
    }
   ],
   "source": [
    "preds = clf.predict(X_test)\n",
    "pred_proba = clf.predict_proba(X_test)\n",
    "from sklearn.metrics import accuracy_score, roc_auc_score, log_loss\n",
    "print('Accuracy = %1.5f' % accuracy_score(Y_test, preds))\n",
    "print('ROC AUC = %1.5f' % roc_auc_score(Y_test, preds))\n",
    "print('Log Loss = %1.5f' % log_loss(Y_test, pred_proba))"
   ]
  },
  {
   "cell_type": "markdown",
   "metadata": {},
   "source": [
    "## Save the training data into a pickle for next stage"
   ]
  },
  {
   "cell_type": "code",
   "execution_count": 27,
   "metadata": {
    "collapsed": true
   },
   "outputs": [],
   "source": [
    "X_train.to_pickle('data/X_train.pkl')\n",
    "Y_train.to_pickle('data/Y_train.pkl')\n",
    "X_test.to_pickle('data/X_test.pkl')\n",
    "Y_test.to_pickle('data/Y_test.pkl')"
   ]
  },
  {
   "cell_type": "code",
   "execution_count": 29,
   "metadata": {
    "collapsed": true
   },
   "outputs": [],
   "source": [
    "df_train[features + [y_col]].to_pickle('data/df_train.pkl')"
   ]
  },
  {
   "cell_type": "markdown",
   "metadata": {},
   "source": [
    "## Prepare the validation set with the same transformations"
   ]
  },
  {
   "cell_type": "code",
   "execution_count": 30,
   "metadata": {
    "collapsed": false
   },
   "outputs": [
    {
     "data": {
      "text/html": [
       "<div>\n",
       "<table border=\"1\" class=\"dataframe\">\n",
       "  <thead>\n",
       "    <tr style=\"text-align: right;\">\n",
       "      <th></th>\n",
       "      <th>test_id</th>\n",
       "      <th>question1</th>\n",
       "      <th>question2</th>\n",
       "    </tr>\n",
       "  </thead>\n",
       "  <tbody>\n",
       "    <tr>\n",
       "      <th>0</th>\n",
       "      <td>0</td>\n",
       "      <td>How does the Surface Pro himself 4 compare wit...</td>\n",
       "      <td>Why did Microsoft choose core m3 and not core ...</td>\n",
       "    </tr>\n",
       "    <tr>\n",
       "      <th>1</th>\n",
       "      <td>1</td>\n",
       "      <td>Should I have a hair transplant at age 24? How...</td>\n",
       "      <td>How much cost does hair transplant require?</td>\n",
       "    </tr>\n",
       "    <tr>\n",
       "      <th>2</th>\n",
       "      <td>2</td>\n",
       "      <td>What but is the best way to send money from Ch...</td>\n",
       "      <td>What you send money to China?</td>\n",
       "    </tr>\n",
       "    <tr>\n",
       "      <th>3</th>\n",
       "      <td>3</td>\n",
       "      <td>Which food not emulsifiers?</td>\n",
       "      <td>What foods fibre?</td>\n",
       "    </tr>\n",
       "    <tr>\n",
       "      <th>4</th>\n",
       "      <td>4</td>\n",
       "      <td>How \"aberystwyth\" start reading?</td>\n",
       "      <td>How their can I start reading?</td>\n",
       "    </tr>\n",
       "  </tbody>\n",
       "</table>\n",
       "</div>"
      ],
      "text/plain": [
       "   test_id                                          question1  \\\n",
       "0        0  How does the Surface Pro himself 4 compare wit...   \n",
       "1        1  Should I have a hair transplant at age 24? How...   \n",
       "2        2  What but is the best way to send money from Ch...   \n",
       "3        3                        Which food not emulsifiers?   \n",
       "4        4                   How \"aberystwyth\" start reading?   \n",
       "\n",
       "                                           question2  \n",
       "0  Why did Microsoft choose core m3 and not core ...  \n",
       "1        How much cost does hair transplant require?  \n",
       "2                      What you send money to China?  \n",
       "3                                  What foods fibre?  \n",
       "4                     How their can I start reading?  "
      ]
     },
     "execution_count": 30,
     "metadata": {},
     "output_type": "execute_result"
    }
   ],
   "source": [
    "df_test_base = pd.read_csv('data/test.csv')\n",
    "df_test_base.head()"
   ]
  },
  {
   "cell_type": "code",
   "execution_count": 31,
   "metadata": {
    "collapsed": false
   },
   "outputs": [
    {
     "name": "stderr",
     "output_type": "stream",
     "text": [
      "/Users/adarsh/anaconda/lib/python2.7/site-packages/ipykernel/__main__.py:7: UnicodeWarning: Unicode equal comparison failed to convert both arguments to Unicode - interpreting them as being unequal\n"
     ]
    },
    {
     "name": "stdout",
     "output_type": "stream",
     "text": [
      "CPU times: user 7min 47s, sys: 5.42 s, total: 7min 53s\n",
      "Wall time: 7min 55s\n"
     ]
    }
   ],
   "source": [
    "%%time\n",
    "#punctable =str.maketrans({key: \"\" for key in string.punctuation})\n",
    "stopwords = nltk.corpus.stopwords.words('english')\n",
    "for qcol in ['question1','question2']:\n",
    "    df_test_base['act_len_' + qcol ] = df_test_base[qcol].apply(lambda x: len(str(x).split()))\n",
    "    #df_test_base[qcol] = df_test_base[qcol].apply(lambda x: str(x).lower().translate(punctable))\n",
    "    df_test_base[qcol] = df_test_base[qcol].apply(lambda x: str(x).lower().translate(None, string.punctuation))\n",
    "    df_test_base[qcol] = df_test_base[qcol].apply(lambda x: ' '.join([word for word in x.split() if word not in stopwords]))\n",
    "    df_test_base['imp_len_' + qcol ] = df_test_base[qcol].apply(lambda x: len(str(x).split()))"
   ]
  },
  {
   "cell_type": "code",
   "execution_count": 33,
   "metadata": {
    "collapsed": false
   },
   "outputs": [
    {
     "name": "stdout",
     "output_type": "stream",
     "text": [
      "(4691592, 3)\n",
      "   qid                                question  type\n",
      "0    0          surface pro 4 compare ipad pro     1\n",
      "1    1  hair transplant age 24 much would cost     1\n",
      "2    2            best way send money china us     1\n",
      "3    3                        food emulsifiers     1\n",
      "4    4               aberystwyth start reading     1\n",
      "CPU times: user 3.22 s, sys: 542 ms, total: 3.76 s\n",
      "Wall time: 3.76 s\n"
     ]
    }
   ],
   "source": [
    "%%time\n",
    "question1 = df_test_base[['test_id','question1']].drop_duplicates().rename(columns={'test_id':'qid','question1':'question'})\n",
    "question1['type'] = 1\n",
    "question2 = df_test_base[['test_id','question2']].drop_duplicates().rename(columns={'test_id':'qid','question2':'question'})\n",
    "question2['type'] = 2\n",
    "allquestions_test = pd.concat([question1,question2])\n",
    "print (allquestions_test.shape)\n",
    "print (allquestions_test.head())"
   ]
  },
  {
   "cell_type": "code",
   "execution_count": 34,
   "metadata": {
    "collapsed": true
   },
   "outputs": [],
   "source": [
    "tfidf = tfidf_vectorizer.transform(allquestions_test.question)"
   ]
  },
  {
   "cell_type": "code",
   "execution_count": 35,
   "metadata": {
    "collapsed": true
   },
   "outputs": [],
   "source": [
    "allquestions_test['tfidf_score'] = tfidf.sum(axis=1)\n",
    "allquestions_test['tfidf_max'] = sparse_max_row(tfidf)\n",
    "allquestions_test['tfidf_min'] = [min_sparse(tfidf.getrow(i)) for i in range(tfidf.shape[0])]"
   ]
  },
  {
   "cell_type": "code",
   "execution_count": 36,
   "metadata": {
    "collapsed": false
   },
   "outputs": [
    {
     "data": {
      "text/html": [
       "<div>\n",
       "<table border=\"1\" class=\"dataframe\">\n",
       "  <thead>\n",
       "    <tr style=\"text-align: right;\">\n",
       "      <th></th>\n",
       "      <th>qid</th>\n",
       "      <th>question</th>\n",
       "      <th>type</th>\n",
       "      <th>tfidf_score</th>\n",
       "      <th>tfidf_max</th>\n",
       "      <th>tfidf_min</th>\n",
       "    </tr>\n",
       "  </thead>\n",
       "  <tbody>\n",
       "    <tr>\n",
       "      <th>0</th>\n",
       "      <td>1</td>\n",
       "      <td>step step guide invest share market india</td>\n",
       "      <td>1</td>\n",
       "      <td>1.998898</td>\n",
       "      <td>0.788155</td>\n",
       "      <td>0.208347</td>\n",
       "    </tr>\n",
       "    <tr>\n",
       "      <th>1</th>\n",
       "      <td>3</td>\n",
       "      <td>story kohinoor kohinoor diamond</td>\n",
       "      <td>1</td>\n",
       "      <td>1.000000</td>\n",
       "      <td>1.000000</td>\n",
       "      <td>1.000000</td>\n",
       "    </tr>\n",
       "    <tr>\n",
       "      <th>2</th>\n",
       "      <td>5</td>\n",
       "      <td>increase speed internet connection using vpn</td>\n",
       "      <td>1</td>\n",
       "      <td>2.220270</td>\n",
       "      <td>0.537069</td>\n",
       "      <td>0.372623</td>\n",
       "    </tr>\n",
       "    <tr>\n",
       "      <th>3</th>\n",
       "      <td>7</td>\n",
       "      <td>mentally lonely solve</td>\n",
       "      <td>1</td>\n",
       "      <td>1.000000</td>\n",
       "      <td>1.000000</td>\n",
       "      <td>1.000000</td>\n",
       "    </tr>\n",
       "    <tr>\n",
       "      <th>4</th>\n",
       "      <td>9</td>\n",
       "      <td>one dissolve water quikly sugar salt methane c...</td>\n",
       "      <td>1</td>\n",
       "      <td>1.985718</td>\n",
       "      <td>0.540787</td>\n",
       "      <td>0.393676</td>\n",
       "    </tr>\n",
       "  </tbody>\n",
       "</table>\n",
       "</div>"
      ],
      "text/plain": [
       "   qid                                           question  type  tfidf_score  \\\n",
       "0    1          step step guide invest share market india     1     1.998898   \n",
       "1    3                    story kohinoor kohinoor diamond     1     1.000000   \n",
       "2    5       increase speed internet connection using vpn     1     2.220270   \n",
       "3    7                              mentally lonely solve     1     1.000000   \n",
       "4    9  one dissolve water quikly sugar salt methane c...     1     1.985718   \n",
       "\n",
       "   tfidf_max  tfidf_min  \n",
       "0   0.788155   0.208347  \n",
       "1   1.000000   1.000000  \n",
       "2   0.537069   0.372623  \n",
       "3   1.000000   1.000000  \n",
       "4   0.540787   0.393676  "
      ]
     },
     "execution_count": 36,
     "metadata": {},
     "output_type": "execute_result"
    }
   ],
   "source": [
    "allquestions.head()"
   ]
  },
  {
   "cell_type": "code",
   "execution_count": 41,
   "metadata": {
    "collapsed": false
   },
   "outputs": [
    {
     "name": "stdout",
     "output_type": "stream",
     "text": [
      "CPU times: user 3min, sys: 5.45 s, total: 3min 6s\n",
      "Wall time: 3min 7s\n"
     ]
    }
   ],
   "source": [
    "%%time\n",
    "df_test = pd.merge(df_test_base, allquestions_test[allquestions_test.type==1], left_on='test_id',right_on='qid', how='left')\n",
    "df_test = pd.merge(df_test, allquestions_test[allquestions_test.type==2], left_on='test_id',right_on='qid', suffixes=('_question1','_question2'), how='left')\n",
    "df_test['jaccard_dist'] = df_test.apply(lambda row: get_dist(row['question_question1'], \n",
    "                                                        row['question_question2'], jaccard_distance)\n",
    "                                                         , axis=1)\n",
    "df_test['masi_dist'] = df_test.apply(lambda row: get_dist(row['question_question1'], \n",
    "                                                        row['question_question2'], masi_distance)\n",
    "                                                         , axis=1)\n",
    "for col in ['act_len','imp_len','tfidf_score']:\n",
    "    df_test[col+'_diff'] = df_test[col+'_question1'] - df_test[col+'_question2']\n",
    "\n",
    "df_test[features].head()"
   ]
  },
  {
   "cell_type": "code",
   "execution_count": 40,
   "metadata": {
    "collapsed": false
   },
   "outputs": [],
   "source": [
    "df_test[features].to_pickle('data/df_test.pkl')"
   ]
  },
  {
   "cell_type": "code",
   "execution_count": 43,
   "metadata": {
    "collapsed": false
   },
   "outputs": [
    {
     "data": {
      "text/plain": [
       "(2345796, 7)"
      ]
     },
     "execution_count": 43,
     "metadata": {},
     "output_type": "execute_result"
    }
   ],
   "source": [
    "df_test_base.shape"
   ]
  },
  {
   "cell_type": "code",
   "execution_count": 44,
   "metadata": {
    "collapsed": false
   },
   "outputs": [
    {
     "data": {
      "text/plain": [
       "(2345796, 24)"
      ]
     },
     "execution_count": 44,
     "metadata": {},
     "output_type": "execute_result"
    }
   ],
   "source": [
    "df_test.shape"
   ]
  },
  {
   "cell_type": "code",
   "execution_count": null,
   "metadata": {
    "collapsed": true
   },
   "outputs": [],
   "source": []
  }
 ],
 "metadata": {
  "anaconda-cloud": {},
  "kernelspec": {
   "display_name": "Python [conda root]",
   "language": "python",
   "name": "conda-root-py"
  },
  "language_info": {
   "codemirror_mode": {
    "name": "ipython",
    "version": 2
   },
   "file_extension": ".py",
   "mimetype": "text/x-python",
   "name": "python",
   "nbconvert_exporter": "python",
   "pygments_lexer": "ipython2",
   "version": "2.7.12"
  }
 },
 "nbformat": 4,
 "nbformat_minor": 1
}

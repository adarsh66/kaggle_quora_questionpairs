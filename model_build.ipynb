{
 "cells": [
  {
   "cell_type": "markdown",
   "metadata": {},
   "source": [
    "# Quora Duplicate Questions classification\n",
    "###  Kaggle competition"
   ]
  },
  {
   "cell_type": "markdown",
   "metadata": {},
   "source": [
    "## Model build"
   ]
  },
  {
   "cell_type": "code",
   "execution_count": 9,
   "metadata": {
    "collapsed": true
   },
   "outputs": [],
   "source": [
    "import pandas as pd\n",
    "import numpy as np\n",
    "from sklearn.metrics import accuracy_score, roc_auc_score, log_loss\n",
    "from sklearn.ensemble import RandomForestClassifier ,GradientBoostingClassifier\n",
    "from sklearn.linear_model import LogisticRegression\n",
    "from time import time"
   ]
  },
  {
   "cell_type": "markdown",
   "metadata": {},
   "source": [
    "### Import files"
   ]
  },
  {
   "cell_type": "code",
   "execution_count": 2,
   "metadata": {
    "collapsed": true
   },
   "outputs": [],
   "source": [
    "X_train = pd.read_pickle('data/X_train.pkl')\n",
    "Y_train = pd.read_pickle('data/Y_train.pkl')\n",
    "X_test = pd.read_pickle('data/X_test.pkl')\n",
    "Y_test = pd.read_pickle('data/Y_test.pkl')"
   ]
  },
  {
   "cell_type": "markdown",
   "metadata": {},
   "source": [
    "### Perform Grid search for best parameters"
   ]
  },
  {
   "cell_type": "code",
   "execution_count": 25,
   "metadata": {
    "collapsed": false
   },
   "outputs": [],
   "source": [
    "models_to_test = {\n",
    "    'random_forest': {\n",
    "                    'estimator': RandomForestClassifier(n_estimators=100, n_jobs=-1)\n",
    "                    ,'params': {'max_depth':[2,3,4], 'min_samples_leaf':[1,0.02,0.04], 'max_features':[None,'sqrt']}\n",
    "                    }\n",
    "    ,'gbm': {\n",
    "                    'estimator': GradientBoostingClassifier(n_estimators=100)\n",
    "                    ,'params': {'max_depth':[2, 3, 4 ], 'min_samples_leaf':[1,0.02,0.04], 'max_features':[None,'sqrt']}\n",
    "                    }\n",
    "    ,'lreg': {\n",
    "                    'estimator': LogisticRegression()\n",
    "                    ,'params': {'C':[1e-3,1e-2,1], 'penalty':['l1','l2']}\n",
    "                    }\n",
    "                }"
   ]
  },
  {
   "cell_type": "code",
   "execution_count": 27,
   "metadata": {
    "collapsed": false
   },
   "outputs": [
    {
     "name": "stdout",
     "output_type": "stream",
     "text": [
      "####################\n",
      "Model type: gbm\n",
      "{'max_features': 'sqrt', 'max_depth': 2, 'min_samples_leaf': 0.04}\n",
      "0.504566370272\n",
      "Time taken to search params for this model = 1066.97 secs\n",
      "####################\n",
      "Model type: lreg\n",
      "{'penalty': 'l2', 'C': 0.001}\n",
      "0.583792673481\n",
      "Time taken to search params for this model = 41.70 secs\n",
      "####################\n",
      "Model type: random_forest\n",
      "{'max_features': 'sqrt', 'max_depth': 2, 'min_samples_leaf': 0.02}\n",
      "0.543954784866\n",
      "Time taken to search params for this model = 717.59 secs\n"
     ]
    }
   ],
   "source": [
    "from sklearn.model_selection import GridSearchCV\n",
    "from sklearn.metrics import make_scorer\n",
    "res = []\n",
    "t0 = time()\n",
    "samp_size = X_train.shape[0] # 100000 # control the size on the input to control execution time\n",
    "for key, val in models_to_test.items():\n",
    "    print ('#'*20)\n",
    "    clf = GridSearchCV(val['estimator'], param_grid = val['params'], cv = 3, scoring=make_scorer(log_loss, needs_proba=True))\n",
    "    clf.fit(X_train.head(samp_size), Y_train.head(samp_size))\n",
    "    print ('Model type: %s' % key)\n",
    "    print (clf.best_params_)\n",
    "    print (clf.best_score_)\n",
    "    res.append(clf.cv_results_)\n",
    "    print ('Time taken to search params for this model = %1.2f secs' % (time()-t0))\n",
    "    t0 = time()"
   ]
  },
  {
   "cell_type": "markdown",
   "metadata": {},
   "source": [
    "#### Best model chosen is the GBM model with the params stated above"
   ]
  },
  {
   "cell_type": "code",
   "execution_count": 30,
   "metadata": {
    "collapsed": false
   },
   "outputs": [
    {
     "name": "stdout",
     "output_type": "stream",
     "text": [
      "CPU times: user 1min 5s, sys: 3.07 s, total: 1min 8s\n",
      "Wall time: 1min 8s\n"
     ]
    }
   ],
   "source": [
    "%%time\n",
    "clf = GradientBoostingClassifier(n_estimators=500, max_features='sqrt', max_depth = 2, min_samples_leaf = 0.04)\n",
    "clf.fit(X_train, Y_train)"
   ]
  },
  {
   "cell_type": "code",
   "execution_count": 31,
   "metadata": {
    "collapsed": false
   },
   "outputs": [
    {
     "name": "stdout",
     "output_type": "stream",
     "text": [
      "Accuracy = 0.71425\n",
      "ROC AUC = 0.69328\n",
      "Log Loss = 0.49555\n"
     ]
    }
   ],
   "source": [
    "preds = clf.predict(X_test)\n",
    "pred_proba = clf.predict_proba(X_test)\n",
    "from sklearn.metrics import accuracy_score, roc_auc_score, log_loss\n",
    "print('Accuracy = %1.5f' % accuracy_score(Y_test, preds))\n",
    "print('ROC AUC = %1.5f' % roc_auc_score(Y_test, preds))\n",
    "print('Log Loss = %1.5f' % log_loss(Y_test, pred_proba))"
   ]
  },
  {
   "cell_type": "markdown",
   "metadata": {},
   "source": [
    "### Generate predictions on the validation set"
   ]
  },
  {
   "cell_type": "code",
   "execution_count": 45,
   "metadata": {
    "collapsed": true
   },
   "outputs": [],
   "source": [
    "df_test = pd.read_pickle('data/df_test.pkl')\n",
    "pred_proba = clf.predict_proba(df_test)"
   ]
  },
  {
   "cell_type": "code",
   "execution_count": 46,
   "metadata": {
    "collapsed": false
   },
   "outputs": [],
   "source": [
    "results = pd.DataFrame()\n",
    "results['is_duplicate'] = pred_proba[:,1]\n",
    "results.to_csv('submission.csv', index_label='test_id')"
   ]
  },
  {
   "cell_type": "code",
   "execution_count": null,
   "metadata": {
    "collapsed": true
   },
   "outputs": [],
   "source": []
  }
 ],
 "metadata": {
  "anaconda-cloud": {},
  "kernelspec": {
   "display_name": "Python [conda root]",
   "language": "python",
   "name": "conda-root-py"
  },
  "language_info": {
   "codemirror_mode": {
    "name": "ipython",
    "version": 2
   },
   "file_extension": ".py",
   "mimetype": "text/x-python",
   "name": "python",
   "nbconvert_exporter": "python",
   "pygments_lexer": "ipython2",
   "version": "2.7.12"
  }
 },
 "nbformat": 4,
 "nbformat_minor": 1
}
